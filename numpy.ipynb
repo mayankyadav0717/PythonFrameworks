{
 "cells": [
  {
   "cell_type": "markdown",
   "metadata": {},
   "source": [
    "# **Numpy**\n",
    "\n",
    "Numpy arrays unlike python lists can only contain data of the same type. If the type doesn't match Numpy will upcast them accordint to it's promotion rules.\n"
   ]
  },
  {
   "cell_type": "code",
   "execution_count": 1,
   "metadata": {},
   "outputs": [
    {
     "name": "stdout",
     "output_type": "stream",
     "text": [
      "[0 0 0 0 0 0 0 0 0 0]\n",
      "[[1. 1. 1. 1. 1.]\n",
      " [1. 1. 1. 1. 1.]\n",
      " [1. 1. 1. 1. 1.]]\n",
      "[[3.14 3.14 3.14 3.14 3.14]\n",
      " [3.14 3.14 3.14 3.14 3.14]\n",
      " [3.14 3.14 3.14 3.14 3.14]]\n",
      "[ 0  2  4  6  8 10 12 14 16 18]\n",
      "[0.   0.25 0.5  0.75 1.  ]\n",
      "[[0.89863033 0.20158765 0.64807158]\n",
      " [0.13614515 0.56429265 0.87047427]\n",
      " [0.46797844 0.39477221 0.43278696]]\n",
      "[[ 6.78576068e-01 -4.04150431e-01 -3.38733049e-01]\n",
      " [-1.47002670e+00 -7.56014335e-01 -7.15054792e-01]\n",
      " [ 4.14309841e-01 -9.25183490e-02 -8.27775900e-04]]\n",
      "[[2 3 1]\n",
      " [8 1 3]\n",
      " [5 8 6]]\n",
      "[[1. 0. 0.]\n",
      " [0. 1. 0.]\n",
      " [0. 0. 1.]]\n",
      "[1. 1. 1.]\n"
     ]
    }
   ],
   "source": [
    "import numpy as np\n",
    "print(np.zeros(10,dtype=int))                  # Creates an array containing only zeros\n",
    "print(np.ones((3,5),dtype=float))              # Creates an array containing onle ones\n",
    "print(np.full((3,5),3.14))                     # Creates an array containing only 3.14(can be changed as per requirement)\n",
    "print(np.arange(0,20,2))                       # Creates an array filled with linear sequence starting from 0 till 20 at the gap of two each [0,20)\n",
    "print(np.linspace(0,1,5))                      # Creates an array filled with 5 values between [0,1)\n",
    "print(np.random.random((3,3)))                 # Creates an array filled with random numbers between 0 and 1\n",
    "print(np.random.normal(0,1,(3,3)))             # Creates an array of normally distributed random numbers with mean 0 and standard deviation 1\n",
    "print(np.random.randint(0,10,(3,3)))           # Creates an array filled with random values between [0,10) \n",
    "print(np.eye(3))                               # Creates an identity matrix of dim \n",
    "print(np.empty(3))                             # Creates an empty array of size "
   ]
  },
  {
   "cell_type": "markdown",
   "metadata": {},
   "source": [
    "## **Basics of Numpy Array**\n",
    "### **Numpy Array Attributes**\n",
    "1) ndim        : number of dimensions\n",
    "2) shape       : the size of each dimension\n",
    "3) size        : total size of the array\n",
    "4) dtype       : data type of each element"
   ]
  },
  {
   "cell_type": "code",
   "execution_count": 3,
   "metadata": {},
   "outputs": [
    {
     "name": "stdout",
     "output_type": "stream",
     "text": [
      "ndim:  2\n",
      "shape:  (3, 4)\n",
      "size:  12\n",
      "dtype:  int64\n"
     ]
    }
   ],
   "source": [
    "rng = np.random.default_rng(seed=1701)\n",
    "\n",
    "x1 = rng.integers(10,size=6)\n",
    "x2 = rng.integers(10,size=(3,4))\n",
    "x3 = rng.integers(10,size=(3,4,5))\n",
    "\n",
    "print(\"ndim: \",x2.ndim)\n",
    "print(\"shape: \",x2.shape)\n",
    "print(\"size: \",x2.size)\n",
    "print(\"dtype: \",x2.dtype)"
   ]
  },
  {
   "cell_type": "markdown",
   "metadata": {},
   "source": [
    "### **Array Indexing**"
   ]
  },
  {
   "cell_type": "code",
   "execution_count": 4,
   "metadata": {},
   "outputs": [
    {
     "name": "stdout",
     "output_type": "stream",
     "text": [
      "[9 4 0 3 8 6]\n",
      "9\n",
      "6\n",
      "[[3 1 3 7]\n",
      " [4 0 2 3]\n",
      " [0 0 6 9]]\n",
      "0\n",
      "9\n"
     ]
    }
   ],
   "source": [
    "print(x1)               \n",
    "print(x1[0])                # Array indexing starts from 0 not 1\n",
    "print(x1[-1])               # Array can also be accessed using -ve indexes starting from the right\n",
    "print(x2)\n",
    "print(x2[1,1])              # For multidimensional arrays it requires user to input for each dimension\n",
    "print(x2[-1,-1])"
   ]
  },
  {
   "cell_type": "markdown",
   "metadata": {},
   "source": [
    "### **Array Slicing**\n",
    ">x[start:stop:step]\n",
    "\n",
    "start index is included\n",
    "\n",
    "stop index is excluded\n",
    "\n",
    "step is number of elements to skip"
   ]
  },
  {
   "cell_type": "code",
   "execution_count": 8,
   "metadata": {},
   "outputs": [
    {
     "name": "stdout",
     "output_type": "stream",
     "text": [
      "[9 4 0 3 8 6]\n",
      "[4 0 3]\n",
      "[0 3 8]\n",
      "[4 3 6]\n",
      "[6 8 3 0 4 9]\n"
     ]
    }
   ],
   "source": [
    "#One dimensional array \n",
    "print(x1)\n",
    "print(x1[1:4])              # elements on [1,4)\n",
    "print(x1[-4:-1])            # elements starting from -4 to -1\n",
    "print(x1[1::2])             # every second element after 1st\n",
    "print(x1[::-1])             # all elements are reversed"
   ]
  },
  {
   "cell_type": "code",
   "execution_count": 9,
   "metadata": {},
   "outputs": [
    {
     "name": "stdout",
     "output_type": "stream",
     "text": [
      "[[3 1 3 7]\n",
      " [4 0 2 3]\n",
      " [0 0 6 9]]\n",
      "[0 0 6 9]\n",
      "[1 0 0]\n",
      "[3 1 3 7]\n"
     ]
    }
   ],
   "source": [
    "#Multidimensional arrays\n",
    "print(x2)\n",
    "print(x2[2,:])              # every element in 3rd row\n",
    "print(x2[:,1])              # every element in 2nd column\n",
    "print(x2[0])                # every element in 1st row, equivalent to x2[0,:]"
   ]
  },
  {
   "cell_type": "markdown",
   "metadata": {},
   "source": [
    "Unlike python list slices the ones by Numpy are views not copies, i.e. in case of changes made to subarray it will be reflected in the actual array"
   ]
  },
  {
   "cell_type": "code",
   "execution_count": 10,
   "metadata": {},
   "outputs": [
    {
     "name": "stdout",
     "output_type": "stream",
     "text": [
      "[[3 1 3 7]\n",
      " [4 0 2 3]\n",
      " [0 0 6 9]]\n",
      "[[3 1]\n",
      " [4 0]]\n",
      "[[100   1   3   7]\n",
      " [  4   0   2   3]\n",
      " [  0   0   6   9]]\n",
      "[[100   1]\n",
      " [  4   0]]\n"
     ]
    }
   ],
   "source": [
    "x2_sub = x2[:2,:2]\n",
    "print(x2)\n",
    "print(x2_sub)\n",
    "x2_sub[0,0] = 100\n",
    "print(x2)\n",
    "print(x2_sub)"
   ]
  },
  {
   "cell_type": "markdown",
   "metadata": {},
   "source": [
    "To prevent this use .copy() function"
   ]
  },
  {
   "cell_type": "markdown",
   "metadata": {},
   "source": [
    "### **Reshaping arrays**\n",
    "Another useful function of numpy is .reshape() it allows one to reshape an array to another shape with the condition that the size of the arrays is same and it returns a no-copy view of the original array"
   ]
  },
  {
   "cell_type": "code",
   "execution_count": 13,
   "metadata": {},
   "outputs": [
    {
     "name": "stdout",
     "output_type": "stream",
     "text": [
      "[1 2 3]\n",
      "[[1]\n",
      " [2]\n",
      " [3]]\n",
      "[[1 2 3]]\n",
      "[[1 2 3]]\n",
      "[[1]\n",
      " [2]\n",
      " [3]]\n"
     ]
    }
   ],
   "source": [
    "x = np.array([1,2,3])\n",
    "print(x)\n",
    "print(x.reshape(3,1))           # convert to row vector\n",
    "print(x.reshape(1,3))           # convert to column vector\n",
    "print(x[np.newaxis,:])          # convert to row vector\n",
    "print(x[:,np.newaxis])          # convert to column vector"
   ]
  },
  {
   "cell_type": "markdown",
   "metadata": {},
   "source": [
    "### **Array Concatenation and Splitting**\n",
    ">Concatenation"
   ]
  },
  {
   "cell_type": "code",
   "execution_count": 16,
   "metadata": {},
   "outputs": [
    {
     "name": "stdout",
     "output_type": "stream",
     "text": [
      "[1 2 3] [3 2 1]\n",
      "[1 2 3 3 2 1]\n",
      "[ 1  2  3  3  2  1 99 99]\n",
      "[[1 2 3]\n",
      " [4 5 6]\n",
      " [1 2 3]\n",
      " [4 5 6]]\n",
      "[[1 2 3 1 2 3]\n",
      " [4 5 6 4 5 6]]\n",
      "[[1 2 3]\n",
      " [1 2 3]\n",
      " [4 5 6]]\n",
      "[[ 1  2  3 99]\n",
      " [ 4  5  6 99]]\n"
     ]
    }
   ],
   "source": [
    "x = np.array([1,2,3])\n",
    "y = np.array([3,2,1])\n",
    "print(x,y)\n",
    "print(np.concatenate([x,y]))\n",
    "z = np.array([99,99])\n",
    "print(np.concatenate([x,y,z]))\n",
    "grid = np.array([[1,2,3],\n",
    "                 [4,5,6]])\n",
    "print(np.concatenate([grid,grid]))\n",
    "print(np.concatenate([grid,grid],axis=1))               # axis=0, is along the columns and axis=1 is along the rows\n",
    "print(np.vstack([x,grid]))\n",
    "print(np.hstack([grid,z.reshape(2,1)]))\n"
   ]
  },
  {
   "cell_type": "markdown",
   "metadata": {},
   "source": [
    ">Splitting"
   ]
  },
  {
   "cell_type": "code",
   "execution_count": 19,
   "metadata": {},
   "outputs": [
    {
     "name": "stdout",
     "output_type": "stream",
     "text": [
      "[1 2 3] [4 9] [9 7]\n",
      "[[ 0  1  2  3]\n",
      " [ 4  5  6  7]\n",
      " [ 8  9 10 11]\n",
      " [12 13 14 15]]\n",
      "[[0 1 2 3]\n",
      " [4 5 6 7]] [[ 8  9 10 11]\n",
      " [12 13 14 15]]\n",
      "[[ 0  1]\n",
      " [ 4  5]\n",
      " [ 8  9]\n",
      " [12 13]] [[ 2  3]\n",
      " [ 6  7]\n",
      " [10 11]\n",
      " [14 15]]\n"
     ]
    }
   ],
   "source": [
    "x = [1,2,3,4,9,9,7]\n",
    "x1,x2,x3 = np.split(x,[3,5])                 #Splits the x array at the indices 3 and 5(before them)\n",
    "print(x1,x2,x3)\n",
    "grid = np.arange(16).reshape((4,4))\n",
    "print(grid)\n",
    "upper, lower = np.vsplit(grid,[2])           # Splits the array along the row divides a vertical line into two\n",
    "print(upper,lower)\n",
    "left,right = np.hsplit(grid,[2])             # Splits the array along the col divieds a horizontal line into two\n",
    "print(left,right)"
   ]
  },
  {
   "cell_type": "markdown",
   "metadata": {},
   "source": [
    "## **Ufuncs**\n",
    "Python functions are slow, to overcome them numpy has vectorized functions also known as ufuncs which are faster in comparsion"
   ]
  },
  {
   "attachments": {
    "image.png": {
     "image/png": "[encoded data removed]"
    }
   },
   "cell_type": "markdown",
   "metadata": {},
   "source": [
    "## **Numpy's Ufuncs**\n",
    "\n",
    "> Array Arithmetic\n",
    "\n",
    "![image.png](attachment:image.png)\n",
    "\n",
    ">Absolute Value\n",
    "\n",
    "np.abs() or np.absolute() returns the absolute value in case of complex data it returns the magnitude(ignoring the imaginary value)\n",
    "\n",
    ">Trignometric Functions\n",
    "\n",
    "np.sin()            x           np.arcssin()\n",
    "\n",
    "np.cos()            x           np.arccos()\n",
    "\n",
    "np.tan()            x           np.arctan()\n",
    "\n",
    "other than above numpy has a large number of ufuncs for trignometric functions\n",
    "\n",
    ">Exponents and Logarithms\n",
    "\n",
    "np.ex(x)            -e^x\n",
    "\n",
    "np.exp2(x)          -2^x\n",
    "\n",
    "np.power(3,x)       -3^x\n",
    "\n",
    "np.log(x)           -ln(x)\n",
    "\n",
    "np.log2(x)          -log2(x)\n",
    "\n",
    "np.log10(x)         -log10(x)\n",
    "\n",
    "other than the above has some ufuncs which are useful for maintaing precision for very small values\n",
    "\n",
    "np.expm1(x)         -e^x - 1\n",
    "\n",
    "np.log1p(x)         -log(1+x)\n",
    "\n",
    ">Specialized Ufuncs\n",
    "\n",
    "Above are the some of the commonly used Ufuncs other than that there are exponentially more ufuncs which can be seen in the Numpy Documentation, so try looking into it before trying to define yourself, it'll be faster and save some brain cells\n",
    "\n"
   ]
  },
  {
   "cell_type": "markdown",
   "metadata": {},
   "source": [
    "### **Advanced Ufunc Features**\n",
    "\n",
    ">Specifying Output\n",
    "\n",
    "Numpy ufuncs have a parameter *out* which takes another np.array() as an input and stores the output to it instead, but be carefuel !!!! it is required that the shape of the array matches the shape of the output\n"
   ]
  },
  {
   "cell_type": "code",
   "execution_count": 27,
   "metadata": {},
   "outputs": [
    {
     "name": "stdout",
     "output_type": "stream",
     "text": [
      "[ 0. 10. 20. 30. 40.]\n"
     ]
    }
   ],
   "source": [
    "x = np.empty(5, dtype=\"float64\")  \n",
    "y = np.empty(5, dtype=\"float64\")  \n",
    "np.multiply(x, 10, out=y)         \n",
    "print(y)"
   ]
  },
  {
   "cell_type": "markdown",
   "metadata": {},
   "source": [
    ">Aggregrations\n",
    "\n",
    "Used to reduce an array with a particular operation, we can use *reduce*"
   ]
  },
  {
   "cell_type": "code",
   "execution_count": 28,
   "metadata": {},
   "outputs": [
    {
     "name": "stdout",
     "output_type": "stream",
     "text": [
      "15\n",
      "120\n"
     ]
    }
   ],
   "source": [
    "x = np.arange(1,6)\n",
    "print(np.add.reduce(x))\n",
    "print(np.multiply.reduce(x))"
   ]
  },
  {
   "cell_type": "markdown",
   "metadata": {},
   "source": [
    "*accumulate* instead of reducing the array to a single output stores the operations per indice"
   ]
  },
  {
   "cell_type": "code",
   "execution_count": 29,
   "metadata": {},
   "outputs": [
    {
     "name": "stdout",
     "output_type": "stream",
     "text": [
      "[1 2 3 4 5]\n",
      "[ 1  3  6 10 15]\n",
      "[  1   2   6  24 120]\n"
     ]
    }
   ],
   "source": [
    "print(x)\n",
    "print(np.add.accumulate(x))\n",
    "print(np.multiply.accumulate(x))"
   ]
  },
  {
   "cell_type": "markdown",
   "metadata": {},
   "source": [
    ">Outer Products\n",
    "\n",
    "Sometimes it is required to get output for the operation on all possible pair, for that we can use the *outer* method"
   ]
  },
  {
   "cell_type": "code",
   "execution_count": 33,
   "metadata": {},
   "outputs": [
    {
     "name": "stdout",
     "output_type": "stream",
     "text": [
      "[1 2 3 4 5]\n",
      "[[ 2  3  4  5  6]\n",
      " [ 3  4  5  6  7]\n",
      " [ 4  5  6  7  8]\n",
      " [ 5  6  7  8  9]\n",
      " [ 6  7  8  9 10]]\n",
      "[[ 1  2  3  4  5]\n",
      " [ 2  4  6  8 10]\n",
      " [ 3  6  9 12 15]\n",
      " [ 4  8 12 16 20]\n",
      " [ 5 10 15 20 25]]\n"
     ]
    }
   ],
   "source": [
    "x = np.arange(1,6)\n",
    "print(x)\n",
    "print(np.add.outer(x,x))\n",
    "print(np.multiply.outer(x,x))"
   ]
  },
  {
   "cell_type": "markdown",
   "metadata": {},
   "source": [
    "## **Aggregrations**\n",
    "We covered two aggregrations *accumulate* and *reduce* now there are a few more\n",
    "\n",
    "*sum* is equivalent to np.add.reduce()"
   ]
  },
  {
   "cell_type": "code",
   "execution_count": 34,
   "metadata": {},
   "outputs": [
    {
     "name": "stdout",
     "output_type": "stream",
     "text": [
      "[0.81178698 0.56426369 0.89838684 0.36675321 0.92854734 0.46324914\n",
      " 0.03410081 0.29296958 0.60185115 0.4225856 ]\n",
      "5.384494344262657\n"
     ]
    }
   ],
   "source": [
    "rng = np.random.default_rng()\n",
    "L = rng.random(10)\n",
    "print(L)\n",
    "print(np.sum(L))"
   ]
  },
  {
   "cell_type": "markdown",
   "metadata": {},
   "source": [
    "*min* and *max* as return the min and max values form the array"
   ]
  },
  {
   "cell_type": "code",
   "execution_count": 35,
   "metadata": {},
   "outputs": [
    {
     "name": "stdout",
     "output_type": "stream",
     "text": [
      "0.03410081032873069   0.9285473352657306\n"
     ]
    }
   ],
   "source": [
    "print(np.min(L),\" \",np.max(L))"
   ]
  },
  {
   "cell_type": "markdown",
   "metadata": {},
   "source": [
    "The same aggregrate ufuncs also work for multidimensional arrays plus they have some additional functionalites such as finding out the sum,min,max rowwise, columnwise as well"
   ]
  },
  {
   "cell_type": "code",
   "execution_count": 36,
   "metadata": {},
   "outputs": [
    {
     "name": "stdout",
     "output_type": "stream",
     "text": [
      "[[0 9 1 2]\n",
      " [7 8 4 4]\n",
      " [1 2 9 2]]\n",
      "49\n",
      "0\n",
      "[0 2 1 2]\n",
      "[0 4 1]\n"
     ]
    }
   ],
   "source": [
    "M = rng.integers(0,10,(3,4))\n",
    "print(M)\n",
    "print(np.sum(M))                    # Sum of all values in array\n",
    "print(np.min(M))                    # Smallest value in array\n",
    "print(np.min(M,axis=0))             # Smallest value per column\n",
    "print(np.min(M,axis=1))             # Smallest value per row"
   ]
  },
  {
   "attachments": {
    "image-2.png": {
     "image/png": "[encoded data removed]"
    },
    "image.png": {
     "image/png": "[encoded data removed]"
    }
   },
   "cell_type": "markdown",
   "metadata": {},
   "source": [
    "### **Other Aggregration Functions**\n",
    "\n",
    "![image.png](attachment:image.png)\n",
    "\n",
    "![image-2.png](attachment:image-2.png)"
   ]
  },
  {
   "cell_type": "markdown",
   "metadata": {},
   "source": [
    "## **Broadcasting**\n",
    "a set of rules by which NumPy let's you apply binary functions between array of different sizes and shapes"
   ]
  },
  {
   "cell_type": "code",
   "execution_count": 37,
   "metadata": {},
   "outputs": [
    {
     "name": "stdout",
     "output_type": "stream",
     "text": [
      "[0 1 2] [5 5 5]\n",
      "[5 6 7]\n",
      "[5 6 7]\n"
     ]
    }
   ],
   "source": [
    "a = np.array([0,1,2])\n",
    "b = np.array([5,5,5])\n",
    "print(a,b)\n",
    "print(a+b)\n",
    "print(a+5)"
   ]
  },
  {
   "cell_type": "markdown",
   "metadata": {},
   "source": [
    "above we see even when we add an array of 5 versus a single 5 the result are the same"
   ]
  },
  {
   "cell_type": "code",
   "execution_count": 39,
   "metadata": {},
   "outputs": [
    {
     "name": "stdout",
     "output_type": "stream",
     "text": [
      "[[1. 1. 1.]\n",
      " [1. 1. 1.]\n",
      " [1. 1. 1.]]\n",
      "[[2. 2. 2.]\n",
      " [2. 2. 2.]\n",
      " [2. 2. 2.]]\n"
     ]
    }
   ],
   "source": [
    "M = np.ones((3,3))\n",
    "print(M)\n",
    "print(M+1)"
   ]
  },
  {
   "cell_type": "markdown",
   "metadata": {},
   "source": [
    "Oh, it also works for multidimensional arrays, now what about two arrays of different shapes?"
   ]
  },
  {
   "cell_type": "code",
   "execution_count": 41,
   "metadata": {},
   "outputs": [
    {
     "name": "stdout",
     "output_type": "stream",
     "text": [
      "[0 1 2] [[0]\n",
      " [1]\n",
      " [2]]\n",
      "[[0 1 2]\n",
      " [1 2 3]\n",
      " [2 3 4]]\n"
     ]
    }
   ],
   "source": [
    "b = a.reshape((3,1))\n",
    "print(a,b)\n",
    "print(a+b)"
   ]
  },
  {
   "attachments": {
    "image.png": {
     "image/png": "[encoded data removed]"
    }
   },
   "cell_type": "markdown",
   "metadata": {},
   "source": [
    "a (3,1) and (1,3) array can also perform binary functions\n",
    "\n",
    "![image.png](attachment:image.png)\n",
    "\n",
    ">Rule 1: If two arrays differ in their number of dimension, the shape of the one with fewer dimensions is padded with the ones on ints leading(left) side\n",
    "\n",
    ">Rule 2: If the shape of the arrays doen't match in any dimension the array with the shape equal to 1 in that dimension is stretched to match the other shape\n",
    "\n",
    ">Rule 3: If in any dimesnion the sizes disagree neither is equal to 1, an error is raised\n"
   ]
  },
  {
   "cell_type": "code",
   "execution_count": 44,
   "metadata": {},
   "outputs": [
    {
     "name": "stdout",
     "output_type": "stream",
     "text": [
      "[[1. 1. 1.]\n",
      " [1. 1. 1.]]\n",
      "[0 1 2]\n",
      "(2, 3)\n",
      "(3,)\n"
     ]
    }
   ],
   "source": [
    "M = np.ones((2,3))\n",
    "a = np.arange(3)\n",
    "print(M)\n",
    "print(a)\n",
    "print(M.shape)\n",
    "print(a.shape)"
   ]
  },
  {
   "cell_type": "markdown",
   "metadata": {},
   "source": [
    "M has the shape (2,3) and a has the shape (3,) so?\n",
    "\n",
    "According to rule pad the array with 1 on its left side and it becomes (1,3), now according to rule we stretch it to (2,3) so we expect the output to be: \n",
    "\n",
    "1 2 3\n",
    "\n",
    "1 2 3"
   ]
  },
  {
   "cell_type": "code",
   "execution_count": 45,
   "metadata": {},
   "outputs": [
    {
     "name": "stdout",
     "output_type": "stream",
     "text": [
      "[[1. 2. 3.]\n",
      " [1. 2. 3.]]\n"
     ]
    }
   ],
   "source": [
    "print(M+a)"
   ]
  },
  {
   "cell_type": "code",
   "execution_count": 46,
   "metadata": {},
   "outputs": [
    {
     "name": "stdout",
     "output_type": "stream",
     "text": [
      "[[0]\n",
      " [1]\n",
      " [2]]\n",
      "[0 1 2]\n",
      "(3, 1)\n",
      "(3,)\n"
     ]
    }
   ],
   "source": [
    "a = np.arange(3).reshape(3,1)\n",
    "b = np.arange(3)\n",
    "print(a)\n",
    "print(b)\n",
    "print(a.shape)\n",
    "print(b.shape)"
   ]
  },
  {
   "cell_type": "markdown",
   "metadata": {},
   "source": [
    "Now we work with two arrays one of shape (3,1) and (3,) we pad the array b on the left getting the shape (1,3), stretching both in the dimension with value 1 we should end up \n",
    "with:\n",
    "\n",
    "0 1 2\n",
    "\n",
    "1 2 3\n",
    "\n",
    "2 3 4"
   ]
  },
  {
   "cell_type": "code",
   "execution_count": 47,
   "metadata": {},
   "outputs": [
    {
     "name": "stdout",
     "output_type": "stream",
     "text": [
      "[[0 1 2]\n",
      " [1 2 3]\n",
      " [2 3 4]]\n"
     ]
    }
   ],
   "source": [
    "print(a+b)"
   ]
  },
  {
   "cell_type": "code",
   "execution_count": 48,
   "metadata": {},
   "outputs": [
    {
     "name": "stdout",
     "output_type": "stream",
     "text": [
      "[[1. 1.]\n",
      " [1. 1.]\n",
      " [1. 1.]]\n",
      "[0 1 2]\n",
      "(3, 2)\n",
      "(3,)\n"
     ]
    }
   ],
   "source": [
    "M = np.ones((3,2))\n",
    "a = np.arange(3)\n",
    "print(M)\n",
    "print(a)\n",
    "print(M.shape)\n",
    "print(a.shape)"
   ]
  },
  {
   "cell_type": "markdown",
   "metadata": {},
   "source": [
    "This is a difficult one, let's follow rule 1 and pad array a to (1,3) according to rule we should stretch the dimension with value 1 but M has dimension (3,2) which cannot be stretched so according to rule 3, it cannot be broadcast"
   ]
  },
  {
   "cell_type": "code",
   "execution_count": 49,
   "metadata": {},
   "outputs": [
    {
     "ename": "ValueError",
     "evalue": "operands could not be broadcast together with shapes (3,2) (3,) ",
     "output_type": "error",
     "traceback": [
      "\u001b[1;31m---------------------------------------------------------------------------\u001b[0m",
      "\u001b[1;31mValueError\u001b[0m                                Traceback (most recent call last)",
      "Cell \u001b[1;32mIn[49], line 1\u001b[0m\n\u001b[1;32m----> 1\u001b[0m \u001b[38;5;28mprint\u001b[39m(\u001b[43mM\u001b[49m\u001b[38;5;241;43m+\u001b[39;49m\u001b[43ma\u001b[49m)\n",
      "\u001b[1;31mValueError\u001b[0m: operands could not be broadcast together with shapes (3,2) (3,) "
     ]
    }
   ],
   "source": [
    "print(M+a)"
   ]
  },
  {
   "cell_type": "markdown",
   "metadata": {},
   "source": [
    "Is it possible to solve the above error?"
   ]
  },
  {
   "cell_type": "code",
   "execution_count": 50,
   "metadata": {},
   "outputs": [
    {
     "name": "stdout",
     "output_type": "stream",
     "text": [
      "[[1. 2. 3.]\n",
      " [1. 2. 3.]]\n"
     ]
    }
   ],
   "source": [
    "print(M.reshape(2,3)+a)"
   ]
  },
  {
   "cell_type": "markdown",
   "metadata": {},
   "source": [
    "## **Comparisons, Masks and Boolean Logic**\n",
    "\n"
   ]
  },
  {
   "cell_type": "markdown",
   "metadata": {},
   "source": [
    "Masking is used when you want to extract, modify, count or otherwise manipulate values in an array based on some criterion: for example, you might wish to count all values greater than a certain value, or remove all outliers that are above some threshold and boolean masking is often the most efficient way to accomplish these types of tasks"
   ]
  },
  {
   "cell_type": "code",
   "execution_count": 51,
   "metadata": {},
   "outputs": [
    {
     "name": "stdout",
     "output_type": "stream",
     "text": [
      "[ True  True False False False]\n",
      "[False False False  True  True]\n",
      "[ True  True  True False False]\n",
      "[False False  True  True  True]\n",
      "[ True  True False  True  True]\n",
      "[False False  True False False]\n"
     ]
    }
   ],
   "source": [
    "x = np.array([1,2,3,4,5])\n",
    "print(x<3)\n",
    "print(x>3)\n",
    "print(x<=3)\n",
    "print(x>=3)\n",
    "print(x!=3)\n",
    "print(x==3)"
   ]
  },
  {
   "attachments": {
    "image.png": {
     "image/png": "[encoded data removed]"
    }
   },
   "cell_type": "markdown",
   "metadata": {},
   "source": [
    "![image.png](attachment:image.png)"
   ]
  },
  {
   "cell_type": "markdown",
   "metadata": {},
   "source": [
    "Working with boolean arrays"
   ]
  },
  {
   "cell_type": "code",
   "execution_count": 52,
   "metadata": {},
   "outputs": [
    {
     "name": "stdout",
     "output_type": "stream",
     "text": [
      "[[2 8 6 8]\n",
      " [9 5 7 0]\n",
      " [8 8 5 0]]\n",
      "5\n",
      "[1 2 2]\n",
      "True\n"
     ]
    }
   ],
   "source": [
    "x = rng.integers(10,size=(3,4))\n",
    "print(x)\n",
    "#how many values less than 6?\n",
    "print(np.count_nonzero(x<6))\n",
    "#how many values less than 6 in each row?\n",
    "print(np.sum(x<6,axis=1))\n",
    "#are there values greater than 8?\n",
    "print(np.any(x>8))\n",
    "#similarly we can compare equal to , less than etc. in the whole array, each row or each column"
   ]
  },
  {
   "attachments": {
    "image.png": {
     "image/png": "[encoded data removed]"
    }
   },
   "cell_type": "markdown",
   "metadata": {},
   "source": [
    "Boolean Operators\n",
    "\n",
    "![image.png](attachment:image.png)"
   ]
  },
  {
   "cell_type": "markdown",
   "metadata": {},
   "source": [
    "Boolean Arrays as Masks: this is an important technique it allow us to use the boolean array we get after a condition"
   ]
  },
  {
   "cell_type": "code",
   "execution_count": 56,
   "metadata": {},
   "outputs": [
    {
     "name": "stdout",
     "output_type": "stream",
     "text": [
      "[[2 8 6 8]\n",
      " [9 5 7 0]\n",
      " [8 8 5 0]]\n",
      "[array([[ True, False, False, False],\n",
      "       [False, False, False,  True],\n",
      "       [False, False, False,  True]])]\n",
      "[2 0 0]\n"
     ]
    }
   ],
   "source": [
    "print(x)\n",
    "print([x<5])\n",
    "print(x[x<5])"
   ]
  },
  {
   "cell_type": "code",
   "execution_count": 57,
   "metadata": {},
   "outputs": [
    {
     "name": "stdout",
     "output_type": "stream",
     "text": [
      "[array([[False,  True,  True,  True],\n",
      "       [ True, False,  True, False],\n",
      "       [ True,  True, False, False]])]\n",
      "[8 6 8 9 7 8 8]\n"
     ]
    }
   ],
   "source": [
    "print([x>5])\n",
    "print(x[x>5])"
   ]
  },
  {
   "cell_type": "markdown",
   "metadata": {},
   "source": [
    "As it can be seen, it prints all the indices where the condition is True"
   ]
  },
  {
   "cell_type": "markdown",
   "metadata": {},
   "source": [
    "## **Fancy Indexing**\n",
    "it means passing an array of indices to access multiply array elements at once"
   ]
  },
  {
   "cell_type": "code",
   "execution_count": 59,
   "metadata": {},
   "outputs": [
    {
     "name": "stdout",
     "output_type": "stream",
     "text": [
      "[99 20 60 87 94 30 79 42  0 55]\n"
     ]
    }
   ],
   "source": [
    "x = rng.integers(100,size=(10))\n",
    "print(x)"
   ]
  },
  {
   "cell_type": "markdown",
   "metadata": {},
   "source": [
    "Either we can use:"
   ]
  },
  {
   "cell_type": "code",
   "execution_count": 60,
   "metadata": {},
   "outputs": [
    {
     "name": "stdout",
     "output_type": "stream",
     "text": [
      "60 87 42\n"
     ]
    }
   ],
   "source": [
    "print(x[2],x[3],x[7])"
   ]
  },
  {
   "cell_type": "markdown",
   "metadata": {},
   "source": [
    "or use fancy indexing"
   ]
  },
  {
   "cell_type": "code",
   "execution_count": 61,
   "metadata": {},
   "outputs": [
    {
     "name": "stdout",
     "output_type": "stream",
     "text": [
      "[60 87 42]\n"
     ]
    }
   ],
   "source": [
    "ind = [2,3,7]\n",
    "print(x[ind])"
   ]
  },
  {
   "cell_type": "markdown",
   "metadata": {},
   "source": [
    "when using array of indices the shape of the result reflects the shape of the index arrays rather than the shape of array being indexed"
   ]
  },
  {
   "cell_type": "code",
   "execution_count": 62,
   "metadata": {},
   "outputs": [
    {
     "name": "stdout",
     "output_type": "stream",
     "text": [
      "[[87 42]\n",
      " [94 30]]\n"
     ]
    }
   ],
   "source": [
    "ind = np.array([[3,7],\n",
    "                [4,5]])\n",
    "print(x[ind])"
   ]
  },
  {
   "cell_type": "markdown",
   "metadata": {},
   "source": [
    "instead of printing 87 42 94 30 it prints it in the shape of ind"
   ]
  },
  {
   "cell_type": "markdown",
   "metadata": {},
   "source": [
    ">Combined indexing\n",
    "\n",
    "Rather than using only traditional indexing or slicing we can combine it with fancy indexing"
   ]
  },
  {
   "cell_type": "code",
   "execution_count": 65,
   "metadata": {},
   "outputs": [
    {
     "name": "stdout",
     "output_type": "stream",
     "text": [
      "[[ 0  3  4  3]\n",
      " [ 8  6  1  5]\n",
      " [ 1 10  4 10]]\n"
     ]
    }
   ],
   "source": [
    "X = rng.integers(12,size=(3,4))\n",
    "print(X)"
   ]
  },
  {
   "cell_type": "code",
   "execution_count": 66,
   "metadata": {},
   "outputs": [
    {
     "name": "stdout",
     "output_type": "stream",
     "text": [
      "[ 4  1 10]\n"
     ]
    }
   ],
   "source": [
    "print(X[2,[2,0,1]])"
   ]
  },
  {
   "cell_type": "code",
   "execution_count": 67,
   "metadata": {},
   "outputs": [
    {
     "name": "stdout",
     "output_type": "stream",
     "text": [
      "[[ 1  8  6]\n",
      " [ 4  1 10]]\n"
     ]
    }
   ],
   "source": [
    "print(X[1:,[2,0,1]])"
   ]
  },
  {
   "cell_type": "markdown",
   "metadata": {},
   "source": [
    "Modifying values with Fancy Indexing"
   ]
  },
  {
   "cell_type": "code",
   "execution_count": 68,
   "metadata": {},
   "outputs": [
    {
     "name": "stdout",
     "output_type": "stream",
     "text": [
      "[0 1 2 3 4 5 6 7 8 9]\n",
      "[ 0 99 99  3 99  5  6  7 99  9]\n",
      "[ 0 89 89  3 89  5  6  7 89  9]\n"
     ]
    }
   ],
   "source": [
    "x = np.arange(10)\n",
    "print(x)\n",
    "i = np.array([2,1,8,4])\n",
    "x[i]=99\n",
    "print(x)\n",
    "x[i]-=10\n",
    "print(x)\n"
   ]
  },
  {
   "cell_type": "code",
   "execution_count": 70,
   "metadata": {},
   "outputs": [
    {
     "name": "stdout",
     "output_type": "stream",
     "text": [
      "[0. 0. 0. 0. 0. 0. 0. 0. 0. 0.]\n",
      "[6. 0. 0. 0. 0. 0. 0. 0. 0. 0.]\n",
      "[6. 0. 1. 1. 1. 0. 0. 0. 0. 0.]\n"
     ]
    }
   ],
   "source": [
    "x = np.zeros(10)\n",
    "print(x)\n",
    "x[[0,0]]=[4,6]  \n",
    "print(x)                        #x[0] is first replaced by 4 then 6\n",
    "i = [2,3,3,4,4,4]\n",
    "x[i]+=1\n",
    "print(x)                        #the addition function is repeated at the indices "
   ]
  },
  {
   "cell_type": "markdown",
   "metadata": {},
   "source": [
    "One might expect the result to be [6,0,1,2,3,0,0,0,0,0] but x[i] = x[i]+1, this is assignment not augmentation of multiple times"
   ]
  },
  {
   "cell_type": "code",
   "execution_count": 72,
   "metadata": {},
   "outputs": [
    {
     "name": "stdout",
     "output_type": "stream",
     "text": [
      "[0. 0. 1. 2. 3. 0. 0. 0. 0. 0.]\n"
     ]
    }
   ],
   "source": [
    "x = np.zeros(10)\n",
    "np.add.at(x,i,1)\n",
    "print(x)"
   ]
  },
  {
   "cell_type": "markdown",
   "metadata": {},
   "source": [
    "## **Sorting Arrays**\n",
    "sorted(L) returns a copy of sorted list\n",
    "\n",
    "L.sort() sorts the list itself and doesn't return a list\n",
    "\n",
    "the above are sorting methods provided by python and even work for strings as well"
   ]
  },
  {
   "cell_type": "markdown",
   "metadata": {},
   "source": [
    "*np.sort(x)* is similart to *sorted(x)*\n",
    "\n",
    "*x.sort()* is similar to *x.sort()*\n",
    "\n",
    "*np.argsort()* instead returns of the sorted elements "
   ]
  },
  {
   "cell_type": "code",
   "execution_count": 73,
   "metadata": {},
   "outputs": [
    {
     "name": "stdout",
     "output_type": "stream",
     "text": [
      "[1 2 3 4 5 6 8]\n",
      "[2 5 4 8 6 1 3]\n",
      "None\n",
      "[1 2 3 4 5 6 8]\n"
     ]
    }
   ],
   "source": [
    "x =  np.array([2,5,4,8,6,1,3])\n",
    "print(np.sort(x))                   # returns a copy\n",
    "print(x)\n",
    "print(x.sort())                     # sorts in place\n",
    "print(x)\n"
   ]
  },
  {
   "cell_type": "code",
   "execution_count": 74,
   "metadata": {},
   "outputs": [
    {
     "name": "stdout",
     "output_type": "stream",
     "text": [
      "[5 0 6 2 1 4 3]\n"
     ]
    }
   ],
   "source": [
    "x =  np.array([2,5,4,8,6,1,3])\n",
    "i = np.argsort(x)\n",
    "print(i)"
   ]
  },
  {
   "cell_type": "markdown",
   "metadata": {},
   "source": [
    "Sorting can also be done along the row or along the columns by just setting axis"
   ]
  },
  {
   "cell_type": "code",
   "execution_count": 79,
   "metadata": {},
   "outputs": [
    {
     "name": "stdout",
     "output_type": "stream",
     "text": [
      "[[3 2 3 0 2 6]\n",
      " [3 5 4 1 3 9]\n",
      " [5 8 8 2 1 0]\n",
      " [9 4 2 3 1 5]]\n",
      "[[3 2 2 0 1 0]\n",
      " [3 4 3 1 1 5]\n",
      " [5 5 4 2 2 6]\n",
      " [9 8 8 3 3 9]]\n",
      "[[0 2 2 3 3 6]\n",
      " [1 3 3 4 5 9]\n",
      " [0 1 2 5 8 8]\n",
      " [1 2 3 4 5 9]]\n"
     ]
    }
   ],
   "source": [
    "X = rng.integers(0,10,(4,6))\n",
    "print(X)\n",
    "print(np.sort(X,axis=0))            # sorts the columns\n",
    "print(np.sort(X,axis=1))            # sorts the rows"
   ]
  },
  {
   "cell_type": "markdown",
   "metadata": {},
   "source": [
    "Remember it treats rows and columns as independent arrays so any relationship will be lost"
   ]
  },
  {
   "cell_type": "markdown",
   "metadata": {},
   "source": [
    "### **Partitioning**\n",
    "Sometimes instead of sorting the whole array we want to find the k smallest values for that we use *partition* function, it returns the array with k smallest values on the left in arbitary order and the rest of the numbers to the right also in arbitary order"
   ]
  },
  {
   "cell_type": "code",
   "execution_count": 82,
   "metadata": {},
   "outputs": [
    {
     "name": "stdout",
     "output_type": "stream",
     "text": [
      "[1 0 0 2 6 2 7 9 7 6]\n"
     ]
    }
   ],
   "source": [
    "x = np.random.randint(10,size=(10))\n",
    "print(x)\n",
    "print(np.partition(x,3))"
   ]
  },
  {
   "cell_type": "code",
   "execution_count": 83,
   "metadata": {},
   "outputs": [
    {
     "name": "stdout",
     "output_type": "stream",
     "text": [
      "[[73 40 47 23]\n",
      " [79 93 97 28]\n",
      " [82 42 77  7]\n",
      " [86 51 71 86]]\n"
     ]
    },
    {
     "data": {
      "text/plain": [
       "array([[23, 40, 47, 73],\n",
       "       [28, 79, 93, 97],\n",
       "       [ 7, 42, 77, 82],\n",
       "       [51, 71, 86, 86]])"
      ]
     },
     "execution_count": 83,
     "metadata": {},
     "output_type": "execute_result"
    }
   ],
   "source": [
    "X = np.random.randint(100,size=(4,4))\n",
    "print(X)\n",
    "np.partition(X,2,axis=1)        # Partitions the first 2 along the rows"
   ]
  },
  {
   "cell_type": "code",
   "execution_count": null,
   "metadata": {},
   "outputs": [],
   "source": []
  }
 ],
 "metadata": {
  "kernelspec": {
   "display_name": "base",
   "language": "python",
   "name": "python3"
  },
  "language_info": {
   "codemirror_mode": {
    "name": "ipython",
    "version": 3
   },
   "file_extension": ".py",
   "mimetype": "text/x-python",
   "name": "python",
   "nbconvert_exporter": "python",
   "pygments_lexer": "ipython3",
   "version": "3.12.7"
  }
 },
 "nbformat": 4,
 "nbformat_minor": 2
}
