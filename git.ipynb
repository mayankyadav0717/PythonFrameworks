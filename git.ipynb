{
 "cells": [
  {
   "cell_type": "markdown",
   "metadata": {},
   "source": [
    "### **Git Bash commands**\n",
    "\n",
    "ls -> lists every directory\n",
    "\n",
    "mkdir x -> makes folder x\n",
    "\n",
    "cd  x -> changes to directory x\n",
    "\n",
    "git init -> initializes an empty git repository\n",
    "\n",
    "ls -a -> lists hidden files\n",
    "\n",
    "ls .git -> to show what is inside git folder\n",
    "\n",
    "touch y -> creates a file y\n",
    "\n",
    "git status -> shows commits, untracked files\n",
    "\n",
    "git add -> stages the file (. for all files)\n",
    "\n",
    "git commit -m \"\" -> commits to repository with message\n",
    "\n",
    "vi y-> goes to file y\n",
    "\n",
    "Esc followed by :x -> to exit file y after exiting\n",
    "\n",
    "cat y-> displays content of file y\n",
    "\n",
    "git restore --staged y -> removes file y from the stage\n",
    "\n",
    "git log -> shows all the commits\n",
    "\n",
    "rm -rf y -> removes file y\n",
    "\n",
    "git reset log -> unstages all the changes before the log and puts in staging \n",
    "area\n",
    "\n",
    "git stash -> pushes all the staged changes to stash(backstage)\n",
    "\n",
    "git stash pop -> stash to untracked\n",
    "\n",
    "git stash clear -> clears stash\n",
    "\n",
    "git remote add origin repositorylink -> to connect the local repository to the global repository, origin is the url\n",
    "\n",
    "git push origin main -> pushes to origin url and main branch make sure to commit changes before pushing\n",
    "\n",
    "\n",
    "\n",
    "\n",
    "\n"
   ]
  },
  {
   "cell_type": "markdown",
   "metadata": {},
   "source": []
  }
 ],
 "metadata": {
  "language_info": {
   "name": "python"
  }
 },
 "nbformat": 4,
 "nbformat_minor": 2
}
